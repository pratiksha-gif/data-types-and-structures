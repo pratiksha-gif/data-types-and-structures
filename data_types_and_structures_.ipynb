{
  "nbformat": 4,
  "nbformat_minor": 0,
  "metadata": {
    "colab": {
      "provenance": []
    },
    "kernelspec": {
      "name": "python3",
      "display_name": "Python 3"
    },
    "language_info": {
      "name": "python"
    }
  },
  "cells": [
    {
      "cell_type": "markdown",
      "source": [],
      "metadata": {
        "id": "her0h4cRpM1n"
      }
    },
    {
      "cell_type": "markdown",
      "source": [],
      "metadata": {
        "id": "d2_wDVDlpY4l"
      }
    },
    {
      "cell_type": "markdown",
      "source": [
        "Q1)data structures are way of organising, storing, and managing data in a computer so that it can be accessed and modified efficiently.\n",
        "**they are important because:**\n",
        "**a)** efficiency\n",
        "**b)** optimal use of resources\n",
        "**C)** Problem solving\n",
        "**d)** scalability\n",
        "\n",
        "\n",
        "Q2)\n",
        "\n",
        "\n",
        "\n",
        "\n",
        "Q3)**A)** **mutability**\n",
        "**B)** **syntax**\n",
        "**C)** **performane**\n",
        "**D)** **method**\n",
        "**E)** **use case**\n",
        "**f)** **hashability**\n",
        "**g)** **memory usage**\n",
        "\n",
        "\n",
        "\n",
        "Q4)dictionaries in python are an implementation of hash tables, which are data structures optimised for fast data retrieval. here's a detailed breakdown of how they work:\n",
        "**1** structure of a dictionary\n",
        "**2** hashing mechanism\n",
        "**3** collision handling\n",
        "**4** efficiency\n",
        "**5** resizing\n",
        "\n",
        "\n",
        "\n",
        "Q5)using a set instead of a list in python has distinct has distint  advantages, depending on the context of your task. Here are key reasons why one might use set:\n",
        "**1)**eliminating duplicates\n",
        "**2)**membership testing\n",
        "**3)**set opeations\n",
        "**4)**no concern about order\n",
        "**5)**preventing redundant items\n",
        "\n",
        "\n",
        "\n",
        "\n",
        "Q6)\n",
        "\n",
        "\n",
        "\n",
        "**14**"
      ],
      "metadata": {
        "id": "JUFFuUsghL6v"
      }
    },
    {
      "cell_type": "markdown",
      "source": [],
      "metadata": {
        "id": "O5OtiY5aTAM9"
      }
    },
    {
      "cell_type": "markdown",
      "source": [
        "when used with a list  they \"in\" keyword checks whether a given value is present as element of the lis.\n",
        "\n",
        "\n",
        "\n"
      ],
      "metadata": {
        "id": "LgM1heWRlaXe"
      }
    },
    {
      "cell_type": "markdown",
      "source": [
        "**FOR DICTIONARIES**"
      ],
      "metadata": {
        "id": "zLdUHWftl73P"
      }
    },
    {
      "cell_type": "markdown",
      "source": [
        "When used with a dictionary, the \"in\"keyword checks for membership in the dictionary's keys. It does not directly check the value."
      ],
      "metadata": {
        "id": "hXVekdHqmEPA"
      }
    },
    {
      "cell_type": "code",
      "execution_count": null,
      "metadata": {
        "id": "IQsmeu22pK9e"
      },
      "outputs": [],
      "source": []
    },
    {
      "cell_type": "markdown",
      "source": [
        "Q15)no, the elements of a tuple in python cannot be modified because tuples are immutable. this immutability means that once a tuple is created, it's size and the values pf its elements cannot be changed"
      ],
      "metadata": {
        "id": "_ZbAk4yrmjtB"
      }
    },
    {
      "cell_type": "markdown",
      "source": [
        "Q16)a nested dictionary is a dictionary  within another dictionary. it allows you to store complex data structures by associating keys with values, where those values themselves can be dictionaries. this hierarchical structure is useful for organisiing  data in a way that represents relationships or grouping."
      ],
      "metadata": {
        "id": "I2G5Hh-xpbOI"
      }
    },
    {
      "cell_type": "markdown",
      "source": [
        "**EXAMPLE**"
      ],
      "metadata": {
        "id": "nNtACiCcrFqv"
      }
    },
    {
      "cell_type": "code",
      "source": [
        "students_grades={\n",
        "    \"alice\":{\n",
        "        \"maths\":86,\n",
        "        \"english\":90,\n",
        "        \"science\":70\n",
        "    },\n",
        "   \"bob\":{\n",
        "       \"maths\":78,\n",
        "       \"english\":86,\n",
        "       \"science\":82\n",
        "   },\n",
        "    \"charlie\":{\n",
        "        \"maths\":95,\n",
        "        \"english\":90,\n",
        "        \"science\":96\n",
        "    }\n",
        "}\n",
        "#accessing a speciific grade\n",
        "alice_maths_grade=students_grades[\"alice\"] [\"maths\"]\n",
        "print(f\"alice's maths grade: {alice_maths_grade}\")\n",
        "\n",
        "#adding a new subject\n",
        "students_grades[\"alice\"] [\"history\"]=89\n",
        "print (students_grades[\"alice\"])\n",
        "\n",
        "#iiterating through all grades for a student\n",
        "for subject, grade in students_grades[\"bob\"].items():\n",
        "  print(f\"bob's grade in {subject}: {grade}\")"
      ],
      "metadata": {
        "colab": {
          "base_uri": "https://localhost:8080/"
        },
        "id": "3BuUQYbFrJKk",
        "outputId": "b678ab8d-5cf2-403b-df3f-7b9aa007d3d7"
      },
      "execution_count": 6,
      "outputs": [
        {
          "output_type": "stream",
          "name": "stdout",
          "text": [
            "alice's maths grade: 86\n",
            "{'maths': 86, 'english': 90, 'science': 70, 'history': 89}\n",
            "bob's grade in maths: 78\n",
            "bob's grade in english: 86\n",
            "bob's grade in science: 82\n"
          ]
        }
      ]
    },
    {
      "cell_type": "markdown",
      "source": [
        "Q17)the time complexity of accessing elements in a dictionary depends on the underlying data structure, which is typically a hash table in most modern programming language such as python."
      ],
      "metadata": {
        "id": "2Q21DMKewnmv"
      }
    },
    {
      "cell_type": "markdown",
      "source": [
        "Q18)**list are  preferred over dictionaries in the following situations**"
      ],
      "metadata": {
        "id": "ppUD1PVsyFnp"
      }
    },
    {
      "cell_type": "markdown",
      "source": [],
      "metadata": {
        "id": "4xRWXtrrrIeH"
      }
    },
    {
      "cell_type": "markdown",
      "source": [
        "**a)** ordered collection of elments\n",
        "**B)** sequential access\n",
        "**C)** homogeneous data\n",
        "**d)** no key value pairing\n",
        "**e)** small data sets\n",
        "**F)** iindex based operations\n",
        "**G)** operations requiring order\n",
        "**h)** when duplicate values are allowed."
      ],
      "metadata": {
        "id": "tp0X0J4HywyN"
      }
    },
    {
      "cell_type": "markdown",
      "source": [
        "Q19)Dictionaries in python are considerd unordered collections because they didnt maintain  the order in which items were insterted."
      ],
      "metadata": {
        "id": "5RQKVzf4zu-U"
      }
    },
    {
      "cell_type": "markdown",
      "source": [
        "Q20)**differences between list and dictionaries in terms of data retrieval**"
      ],
      "metadata": {
        "id": "jU30T-DU1M_-"
      }
    },
    {
      "cell_type": "markdown",
      "source": [
        "**A)** list access method is index(my_list[0]) where as in dictionary its key (my_dict['key'})\n",
        "**b)** list is oodered whereas dictionary is unodered.\n",
        "**c)** list structure collection of items whereas dictonary structure collection of key value pairs\n",
        "**D)** list's efficiency fast for sequential access whereas dictionary is fast for key based lookups"
      ],
      "metadata": {
        "id": "og8nC3d-3tk2"
      }
    },
    {
      "cell_type": "markdown",
      "source": [
        "**PRACTICAL QUESTIONS**"
      ],
      "metadata": {
        "id": "6w1KsS6t52jO"
      }
    },
    {
      "cell_type": "markdown",
      "source": [
        "Q1)"
      ],
      "metadata": {
        "id": "BMxwJyC-6lB6"
      }
    },
    {
      "cell_type": "code",
      "source": [
        "#creating a string with my name\n",
        "my_name=\"pratiksha\"\n",
        "\n",
        "#printing the string\n",
        "print(my_name)"
      ],
      "metadata": {
        "colab": {
          "base_uri": "https://localhost:8080/"
        },
        "id": "D7bjLGzd6uI9",
        "outputId": "08b17c71-926c-4131-8da2-70268bf8c7a2"
      },
      "execution_count": 7,
      "outputs": [
        {
          "output_type": "stream",
          "name": "stdout",
          "text": [
            "pratiksha\n"
          ]
        }
      ]
    },
    {
      "cell_type": "markdown",
      "source": [
        "Q2)"
      ],
      "metadata": {
        "id": "2n4Uocql7WD_"
      }
    },
    {
      "cell_type": "code",
      "source": [
        "#Define the string\n",
        "my_string=\"hello world\"\n",
        "\n",
        "#find the length of the string\n",
        "length_of_string= len(my_string)\n",
        "\n",
        "#print the length\n",
        "print(length_of_string)"
      ],
      "metadata": {
        "colab": {
          "base_uri": "https://localhost:8080/"
        },
        "id": "VBj359tK7a_E",
        "outputId": "b25d8455-9318-462d-87df-1d78ac938375"
      },
      "execution_count": 8,
      "outputs": [
        {
          "output_type": "stream",
          "name": "stdout",
          "text": [
            "11\n"
          ]
        }
      ]
    },
    {
      "cell_type": "markdown",
      "source": [
        "Q3)"
      ],
      "metadata": {
        "id": "zrzN54ox8qH6"
      }
    },
    {
      "cell_type": "code",
      "source": [
        "text=\"python programming\"\n",
        "sliced_text= text[:3]\n",
        "print(sliced_text)"
      ],
      "metadata": {
        "colab": {
          "base_uri": "https://localhost:8080/"
        },
        "id": "XVcWopir8wUN",
        "outputId": "f154fc07-9e26-40af-f352-fc33d966ddff"
      },
      "execution_count": 9,
      "outputs": [
        {
          "output_type": "stream",
          "name": "stdout",
          "text": [
            "pyt\n"
          ]
        }
      ]
    },
    {
      "cell_type": "markdown",
      "source": [
        "Q4)"
      ],
      "metadata": {
        "id": "mMgiHVUK9eip"
      }
    },
    {
      "cell_type": "code",
      "source": [
        "#string to convert\n",
        "string=\"hello\"\n",
        "\n",
        "#convert to uppercase\n",
        "uppercase_string=string.upper()\n",
        "\n",
        "#print the result\n",
        "print(uppercase_string)"
      ],
      "metadata": {
        "colab": {
          "base_uri": "https://localhost:8080/"
        },
        "id": "M1N1LS4P6QEo",
        "outputId": "0089bd5f-2c54-4177-dee2-1a52e0846e73"
      },
      "execution_count": 10,
      "outputs": [
        {
          "output_type": "stream",
          "name": "stdout",
          "text": [
            "HELLO\n"
          ]
        }
      ]
    },
    {
      "cell_type": "markdown",
      "source": [
        "Q5)"
      ],
      "metadata": {
        "id": "Tx0LqS5J-pYf"
      }
    },
    {
      "cell_type": "code",
      "source": [
        "#original string\n",
        "text=\"i like apple\"\n",
        "\n",
        "#relacing 'apple' with 'orange'\n",
        "new_text=text.replace(\"apple\", \"orange\")\n",
        "\n",
        "#printing the modified string\n",
        "print(new_text)"
      ],
      "metadata": {
        "colab": {
          "base_uri": "https://localhost:8080/"
        },
        "id": "BRIQe7U9-s_4",
        "outputId": "8c48f6e4-f86d-4a1f-fc72-9b796fcb9cc8"
      },
      "execution_count": 11,
      "outputs": [
        {
          "output_type": "stream",
          "name": "stdout",
          "text": [
            "i like orange\n"
          ]
        }
      ]
    },
    {
      "cell_type": "code",
      "source": [],
      "metadata": {
        "id": "bQbb27at-_w0"
      },
      "execution_count": null,
      "outputs": []
    },
    {
      "cell_type": "markdown",
      "source": [
        "Q6)"
      ],
      "metadata": {
        "id": "kwa0IvQH_p5y"
      }
    },
    {
      "cell_type": "code",
      "source": [
        "#create a list with numbers 1 to 5\n",
        "numbers=[1,2,3,4,5]\n",
        "\n",
        "#print the list\n",
        "print(numbers)"
      ],
      "metadata": {
        "colab": {
          "base_uri": "https://localhost:8080/"
        },
        "id": "knHhB51J_vXN",
        "outputId": "6ebb29c9-8501-4a30-c9b1-7e72f878fe7f"
      },
      "execution_count": 13,
      "outputs": [
        {
          "output_type": "stream",
          "name": "stdout",
          "text": [
            "[1, 2, 3, 4, 5]\n"
          ]
        }
      ]
    },
    {
      "cell_type": "markdown",
      "source": [
        "Q7)"
      ],
      "metadata": {
        "id": "yaZoR4MFAz9v"
      }
    },
    {
      "cell_type": "code",
      "source": [
        "#create the list\n",
        "numbers=[1,2,3,4]\n",
        "\n",
        "#append the number 10 to the  list\n",
        "numbers.append(10)\n",
        "\n",
        "#print the updated list\n",
        "print(numbers)"
      ],
      "metadata": {
        "colab": {
          "base_uri": "https://localhost:8080/"
        },
        "id": "aMAKUbVzA3by",
        "outputId": "26fcbefc-d7a9-4b60-c14f-ff991be7096e"
      },
      "execution_count": 14,
      "outputs": [
        {
          "output_type": "stream",
          "name": "stdout",
          "text": [
            "[1, 2, 3, 4, 10]\n"
          ]
        }
      ]
    },
    {
      "cell_type": "markdown",
      "source": [],
      "metadata": {
        "id": "0YBYgdy7-pT4"
      }
    },
    {
      "cell_type": "markdown",
      "source": [
        "Q8)"
      ],
      "metadata": {
        "id": "3onOoUb-Buxq"
      }
    },
    {
      "cell_type": "code",
      "source": [
        "my_list=[1,2,3,4,5]\n",
        "my_list.remove(3)\n",
        "print(my_list)"
      ],
      "metadata": {
        "colab": {
          "base_uri": "https://localhost:8080/"
        },
        "id": "yxG6Tv_LByLV",
        "outputId": "3bd48cb8-f50a-4b7a-88d6-2b35cc458b27"
      },
      "execution_count": 15,
      "outputs": [
        {
          "output_type": "stream",
          "name": "stdout",
          "text": [
            "[1, 2, 4, 5]\n"
          ]
        }
      ]
    },
    {
      "cell_type": "markdown",
      "source": [
        "Q9)"
      ],
      "metadata": {
        "id": "AjhelRfGDNmr"
      }
    },
    {
      "cell_type": "code",
      "source": [
        "my_list=['a', 'b', 'c', 'd']\n",
        "second_element= my_list[1]\n",
        "print(second_element)"
      ],
      "metadata": {
        "colab": {
          "base_uri": "https://localhost:8080/"
        },
        "id": "RymttRGgDQtd",
        "outputId": "9989ae1d-364d-4d88-8cac-78705dae49f1"
      },
      "execution_count": 16,
      "outputs": [
        {
          "output_type": "stream",
          "name": "stdout",
          "text": [
            "b\n"
          ]
        }
      ]
    },
    {
      "cell_type": "markdown",
      "source": [
        "Q10)"
      ],
      "metadata": {
        "id": "EJ_OEWeoD-yi"
      }
    },
    {
      "cell_type": "code",
      "source": [
        "#original list\n",
        "my_list=[10,20,30,40,50]\n",
        "\n",
        "#reverse the list\n",
        "reversed_list=my_list[::-1]\n",
        "\n",
        "#print the reversed list\n",
        "print(reversed_list)"
      ],
      "metadata": {
        "colab": {
          "base_uri": "https://localhost:8080/"
        },
        "id": "jA-w1D7FEA5u",
        "outputId": "8b79f57a-a088-4b76-e5ff-b65b5111d90f"
      },
      "execution_count": 17,
      "outputs": [
        {
          "output_type": "stream",
          "name": "stdout",
          "text": [
            "[50, 40, 30, 20, 10]\n"
          ]
        }
      ]
    },
    {
      "cell_type": "markdown",
      "source": [
        "Q11)"
      ],
      "metadata": {
        "id": "pntEASPYEuqU"
      }
    },
    {
      "cell_type": "code",
      "source": [
        "#creating a tuple with the elements 10, 20 and 30\n",
        "my_tuple=(10,  20, 30)\n",
        "print(my_tuple)"
      ],
      "metadata": {
        "colab": {
          "base_uri": "https://localhost:8080/"
        },
        "id": "rQvv31-aEwnR",
        "outputId": "27e3b1f4-5050-4519-986c-00f7b173b8b5"
      },
      "execution_count": 18,
      "outputs": [
        {
          "output_type": "stream",
          "name": "stdout",
          "text": [
            "(10, 20, 30)\n"
          ]
        }
      ]
    },
    {
      "cell_type": "markdown",
      "source": [
        "Q12)"
      ],
      "metadata": {
        "id": "Ub9My3PUFXGT"
      }
    },
    {
      "cell_type": "code",
      "source": [
        "my_tuple=('apple', 'banana', 'cherry')\n",
        "first_element= my_tuple[0]\n",
        "print(first_element)"
      ],
      "metadata": {
        "colab": {
          "base_uri": "https://localhost:8080/"
        },
        "id": "e-JBSjrGFZUo",
        "outputId": "ee51323c-8c5a-4efd-a32e-12af91d5bcce"
      },
      "execution_count": 19,
      "outputs": [
        {
          "output_type": "stream",
          "name": "stdout",
          "text": [
            "apple\n"
          ]
        }
      ]
    },
    {
      "cell_type": "markdown",
      "source": [
        "Q13)"
      ],
      "metadata": {
        "id": "fdAdvF1rGDN2"
      }
    },
    {
      "cell_type": "code",
      "source": [
        "#define the tuple\n",
        "my_tuple=(1, 2, 3, 4, 2)\n",
        "\n",
        "#count how many times 2 appears\n",
        "count_of_two=my_tuple.count(2)\n",
        "\n",
        "#print the result\n",
        "print(count_of_two)"
      ],
      "metadata": {
        "colab": {
          "base_uri": "https://localhost:8080/"
        },
        "id": "xEoMNh26GE8g",
        "outputId": "1a1b1877-978b-4d56-aa2b-ed08efec4b49"
      },
      "execution_count": 20,
      "outputs": [
        {
          "output_type": "stream",
          "name": "stdout",
          "text": [
            "2\n"
          ]
        }
      ]
    },
    {
      "cell_type": "markdown",
      "source": [
        "Q14)"
      ],
      "metadata": {
        "id": "iY8y2qBMIL_A"
      }
    },
    {
      "cell_type": "code",
      "source": [
        "#define the tuple\n",
        "animals=('dog', 'cat', 'rabbit')\n",
        "\n",
        "#find the index if the element \"cat\"\n",
        "index_of_cat=animals.index('cat')\n",
        " #print the result\n",
        "print(\"The index of 'cat' is:\", index_of_cat)"
      ],
      "metadata": {
        "colab": {
          "base_uri": "https://localhost:8080/",
          "height": 106
        },
        "id": "weEyUMpOIRMO",
        "outputId": "4c491131-02af-4002-e21c-164ead3d3ef3"
      },
      "execution_count": 26,
      "outputs": [
        {
          "output_type": "error",
          "ename": "IndentationError",
          "evalue": "unexpected indent (<ipython-input-26-2ed8f0997454>, line 7)",
          "traceback": [
            "\u001b[0;36m  File \u001b[0;32m\"<ipython-input-26-2ed8f0997454>\"\u001b[0;36m, line \u001b[0;32m7\u001b[0m\n\u001b[0;31m    print(\"The index of 'cat' is:\", index_of_cat)\u001b[0m\n\u001b[0m    ^\u001b[0m\n\u001b[0;31mIndentationError\u001b[0m\u001b[0;31m:\u001b[0m unexpected indent\n"
          ]
        }
      ]
    },
    {
      "cell_type": "markdown",
      "source": [
        "Q15)"
      ],
      "metadata": {
        "id": "gtV4E8H8LCHX"
      }
    },
    {
      "cell_type": "code",
      "source": [
        "fruits=('apple', 'banana', 'orange')\n",
        "if'banana' in fruits:\n",
        "  print(\"yes, 'banana' is in the tuple.\")\n",
        "else:\n",
        "  print(\"no, 'banana' is not in the tuple.\")\n"
      ],
      "metadata": {
        "colab": {
          "base_uri": "https://localhost:8080/"
        },
        "id": "MU2mLZwPLBxx",
        "outputId": "a65ba376-ed4f-4685-a878-701e79242ab8"
      },
      "execution_count": 27,
      "outputs": [
        {
          "output_type": "stream",
          "name": "stdout",
          "text": [
            "yes, 'banana' is in the tuple.\n"
          ]
        }
      ]
    },
    {
      "cell_type": "markdown",
      "source": [
        "Q16)"
      ],
      "metadata": {
        "id": "bm5ywYfIMH-H"
      }
    },
    {
      "cell_type": "code",
      "source": [
        "my_set={1, 2, 3, 4, 5}\n",
        "print(my_set)"
      ],
      "metadata": {
        "colab": {
          "base_uri": "https://localhost:8080/"
        },
        "id": "Zw2epPkJMMTY",
        "outputId": "1f9a7734-f36b-4ba2-c8ba-5502a09aca74"
      },
      "execution_count": 28,
      "outputs": [
        {
          "output_type": "stream",
          "name": "stdout",
          "text": [
            "{1, 2, 3, 4, 5}\n"
          ]
        }
      ]
    },
    {
      "cell_type": "code",
      "source": [],
      "metadata": {
        "id": "R2PxJwsCILQP"
      },
      "execution_count": null,
      "outputs": []
    },
    {
      "cell_type": "markdown",
      "source": [
        "Q17)"
      ],
      "metadata": {
        "id": "lZIpJ1urNYpn"
      }
    },
    {
      "cell_type": "code",
      "source": [
        "my_set={1,2,3,4}\n",
        "my_set.add(6)\n",
        "print(my_set)"
      ],
      "metadata": {
        "colab": {
          "base_uri": "https://localhost:8080/"
        },
        "id": "TS9aNq0bNq-o",
        "outputId": "250ffb30-98f0-48f3-f324-24e835ab99d4"
      },
      "execution_count": 29,
      "outputs": [
        {
          "output_type": "stream",
          "name": "stdout",
          "text": [
            "{1, 2, 3, 4, 6}\n"
          ]
        }
      ]
    },
    {
      "cell_type": "markdown",
      "source": [
        "Q18)"
      ],
      "metadata": {
        "id": "KB1yAKBFN8cY"
      }
    },
    {
      "cell_type": "code",
      "source": [
        "my_tuple=(10,20,20)\n",
        "print(my_tuple)"
      ],
      "metadata": {
        "colab": {
          "base_uri": "https://localhost:8080/"
        },
        "id": "1OhO8jT7OF0T",
        "outputId": "49284885-d646-4962-8a34-683d5bc726ef"
      },
      "execution_count": 30,
      "outputs": [
        {
          "output_type": "stream",
          "name": "stdout",
          "text": [
            "(10, 20, 20)\n"
          ]
        }
      ]
    },
    {
      "cell_type": "markdown",
      "source": [],
      "metadata": {
        "id": "SCoeRrynOPxZ"
      }
    },
    {
      "cell_type": "markdown",
      "source": [
        "Q19)"
      ],
      "metadata": {
        "id": "dndZXlqHORO5"
      }
    },
    {
      "cell_type": "code",
      "source": [
        "my_tuple=('apple', 'banana', 'cherry')\n",
        "first_element=my_tuple[0]\n",
        "print(first_element)"
      ],
      "metadata": {
        "colab": {
          "base_uri": "https://localhost:8080/"
        },
        "id": "Cvu_pJ2JOT3D",
        "outputId": "c43a5c7d-3388-40d8-959d-4e83098716fe"
      },
      "execution_count": 31,
      "outputs": [
        {
          "output_type": "stream",
          "name": "stdout",
          "text": [
            "apple\n"
          ]
        }
      ]
    },
    {
      "cell_type": "markdown",
      "source": [
        "Q20)"
      ],
      "metadata": {
        "id": "X4WtUxHrO8lN"
      }
    },
    {
      "cell_type": "code",
      "source": [
        "numbers=(1,2,3,2,4,2)\n",
        "count_of_2=numbers.count(2)\n",
        "print(\"the number 2 appears\", count_of_2,\"times. \")"
      ],
      "metadata": {
        "colab": {
          "base_uri": "https://localhost:8080/"
        },
        "id": "u3qzICakO_6y",
        "outputId": "a95e8c5f-9c2a-41b0-d0e9-ba7cc445ac4b"
      },
      "execution_count": 32,
      "outputs": [
        {
          "output_type": "stream",
          "name": "stdout",
          "text": [
            "the number 2 appears 3 times. \n"
          ]
        }
      ]
    },
    {
      "cell_type": "markdown",
      "source": [
        "Q21)"
      ],
      "metadata": {
        "id": "olCV4S03P7lJ"
      }
    },
    {
      "cell_type": "code",
      "source": [
        "animals=('dog', 'cat',  'rabbit')\n",
        "index_of_cat=animals.index('cat')\n",
        "print(\"the index of 'cat' is:\", index_of_cat)"
      ],
      "metadata": {
        "colab": {
          "base_uri": "https://localhost:8080/"
        },
        "id": "S-eGFnNyQQjd",
        "outputId": "f68a25ca-c2f3-464c-a628-b8bad0ce13f1"
      },
      "execution_count": 33,
      "outputs": [
        {
          "output_type": "stream",
          "name": "stdout",
          "text": [
            "the index of 'cat' is: 1\n"
          ]
        }
      ]
    },
    {
      "cell_type": "markdown",
      "source": [
        "Q22)"
      ],
      "metadata": {
        "id": "RWVKMR8AQ5Fy"
      }
    },
    {
      "cell_type": "code",
      "source": [
        "my_tuple=('apple', 'orange', 'banana')\n",
        "if'banana' in my_tuple:\n",
        "  print(\"banana is in the tuple.\")\n",
        "else:\n",
        "  print(\"banana is not in the tuple.\")"
      ],
      "metadata": {
        "colab": {
          "base_uri": "https://localhost:8080/"
        },
        "id": "FGpdXl9zQ6vU",
        "outputId": "919d220c-57ed-4ca3-e413-c0bf81e566ff"
      },
      "execution_count": 35,
      "outputs": [
        {
          "output_type": "stream",
          "name": "stdout",
          "text": [
            "banana is in the tuple.\n"
          ]
        }
      ]
    },
    {
      "cell_type": "markdown",
      "source": [
        "Q23)"
      ],
      "metadata": {
        "id": "bG8zCHDORzcm"
      }
    },
    {
      "cell_type": "code",
      "source": [
        "my_set={1,2,3,4,5}\n",
        "print(my_set)"
      ],
      "metadata": {
        "colab": {
          "base_uri": "https://localhost:8080/"
        },
        "id": "BYd2xfcER3Fo",
        "outputId": "06b5b09e-e452-424b-cfa9-f27c7b40598e"
      },
      "execution_count": 36,
      "outputs": [
        {
          "output_type": "stream",
          "name": "stdout",
          "text": [
            "{1, 2, 3, 4, 5}\n"
          ]
        }
      ]
    },
    {
      "cell_type": "markdown",
      "source": [
        "Q24)"
      ],
      "metadata": {
        "id": "zIEVVVOOSKTc"
      }
    },
    {
      "cell_type": "code",
      "source": [
        "my_set={1,2,3,4}\n",
        "my_set.add(6)\n",
        "print(my_set)"
      ],
      "metadata": {
        "colab": {
          "base_uri": "https://localhost:8080/"
        },
        "id": "cnfJhunNSMRv",
        "outputId": "e3f145d9-1300-49c9-f7ba-7276009b0310"
      },
      "execution_count": 37,
      "outputs": [
        {
          "output_type": "stream",
          "name": "stdout",
          "text": [
            "{1, 2, 3, 4, 6}\n"
          ]
        }
      ]
    },
    {
      "cell_type": "code",
      "source": [],
      "metadata": {
        "id": "jSP_0yr2P9KW"
      },
      "execution_count": null,
      "outputs": []
    }
  ]
}